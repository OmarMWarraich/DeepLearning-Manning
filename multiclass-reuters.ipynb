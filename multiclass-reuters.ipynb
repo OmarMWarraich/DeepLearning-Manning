{
 "cells": [
  {
   "cell_type": "code",
   "execution_count": 18,
   "metadata": {},
   "outputs": [
    {
     "name": "stderr",
     "output_type": "stream",
     "text": [
      "/home/remo/anaconda3/lib/python3.8/site-packages/tensorflow/python/keras/datasets/reuters.py:148: VisibleDeprecationWarning: Creating an ndarray from ragged nested sequences (which is a list-or-tuple of lists-or-tuples-or ndarrays with different lengths or shapes) is deprecated. If you meant to do this, you must specify 'dtype=object' when creating the ndarray\n",
      "  x_train, y_train = np.array(xs[:idx]), np.array(labels[:idx])\n",
      "/home/remo/anaconda3/lib/python3.8/site-packages/tensorflow/python/keras/datasets/reuters.py:149: VisibleDeprecationWarning: Creating an ndarray from ragged nested sequences (which is a list-or-tuple of lists-or-tuples-or ndarrays with different lengths or shapes) is deprecated. If you meant to do this, you must specify 'dtype=object' when creating the ndarray\n",
      "  x_test, y_test = np.array(xs[idx:]), np.array(labels[idx:])\n"
     ]
    }
   ],
   "source": [
    "from keras.datasets import reuters\n",
    "(train_data, train_labels), (test_data, test_labels) = reuters.load_data(num_words=10000)"
   ]
  },
  {
   "cell_type": "code",
   "execution_count": 19,
   "metadata": {},
   "outputs": [
    {
     "data": {
      "text/plain": [
       "8982"
      ]
     },
     "execution_count": 19,
     "metadata": {},
     "output_type": "execute_result"
    }
   ],
   "source": [
    "len(train_data)"
   ]
  },
  {
   "cell_type": "code",
   "execution_count": 20,
   "metadata": {},
   "outputs": [
    {
     "data": {
      "text/plain": [
       "8982"
      ]
     },
     "execution_count": 20,
     "metadata": {},
     "output_type": "execute_result"
    }
   ],
   "source": [
    "len(train_labels)"
   ]
  },
  {
   "cell_type": "code",
   "execution_count": 21,
   "metadata": {},
   "outputs": [
    {
     "data": {
      "text/plain": [
       "[1,\n",
       " 367,\n",
       " 1394,\n",
       " 169,\n",
       " 65,\n",
       " 87,\n",
       " 209,\n",
       " 30,\n",
       " 306,\n",
       " 228,\n",
       " 10,\n",
       " 803,\n",
       " 305,\n",
       " 96,\n",
       " 5,\n",
       " 196,\n",
       " 15,\n",
       " 10,\n",
       " 523,\n",
       " 2,\n",
       " 3006,\n",
       " 293,\n",
       " 484,\n",
       " 2,\n",
       " 1440,\n",
       " 5825,\n",
       " 8,\n",
       " 145,\n",
       " 7,\n",
       " 10,\n",
       " 1670,\n",
       " 6,\n",
       " 10,\n",
       " 294,\n",
       " 517,\n",
       " 237,\n",
       " 2,\n",
       " 367,\n",
       " 8042,\n",
       " 7,\n",
       " 2477,\n",
       " 1177,\n",
       " 483,\n",
       " 1440,\n",
       " 5825,\n",
       " 8,\n",
       " 367,\n",
       " 1394,\n",
       " 4,\n",
       " 169,\n",
       " 387,\n",
       " 66,\n",
       " 209,\n",
       " 30,\n",
       " 2344,\n",
       " 652,\n",
       " 1496,\n",
       " 9,\n",
       " 209,\n",
       " 30,\n",
       " 2564,\n",
       " 228,\n",
       " 10,\n",
       " 803,\n",
       " 305,\n",
       " 96,\n",
       " 5,\n",
       " 196,\n",
       " 15,\n",
       " 51,\n",
       " 36,\n",
       " 1457,\n",
       " 24,\n",
       " 1345,\n",
       " 5,\n",
       " 4,\n",
       " 196,\n",
       " 150,\n",
       " 10,\n",
       " 523,\n",
       " 320,\n",
       " 64,\n",
       " 992,\n",
       " 6373,\n",
       " 13,\n",
       " 367,\n",
       " 190,\n",
       " 297,\n",
       " 64,\n",
       " 85,\n",
       " 1692,\n",
       " 6,\n",
       " 8656,\n",
       " 122,\n",
       " 9,\n",
       " 36,\n",
       " 1457,\n",
       " 24,\n",
       " 269,\n",
       " 4753,\n",
       " 27,\n",
       " 367,\n",
       " 212,\n",
       " 114,\n",
       " 45,\n",
       " 30,\n",
       " 3292,\n",
       " 7,\n",
       " 126,\n",
       " 2203,\n",
       " 13,\n",
       " 367,\n",
       " 6,\n",
       " 1818,\n",
       " 4,\n",
       " 169,\n",
       " 65,\n",
       " 96,\n",
       " 28,\n",
       " 432,\n",
       " 23,\n",
       " 189,\n",
       " 1254,\n",
       " 4,\n",
       " 9725,\n",
       " 320,\n",
       " 5,\n",
       " 196,\n",
       " 15,\n",
       " 10,\n",
       " 523,\n",
       " 25,\n",
       " 730,\n",
       " 190,\n",
       " 57,\n",
       " 64,\n",
       " 6,\n",
       " 9953,\n",
       " 2016,\n",
       " 6373,\n",
       " 7,\n",
       " 2,\n",
       " 122,\n",
       " 1440,\n",
       " 5825,\n",
       " 8,\n",
       " 269,\n",
       " 4753,\n",
       " 1217,\n",
       " 7,\n",
       " 608,\n",
       " 2203,\n",
       " 30,\n",
       " 3292,\n",
       " 1440,\n",
       " 5825,\n",
       " 8,\n",
       " 43,\n",
       " 339,\n",
       " 43,\n",
       " 231,\n",
       " 9,\n",
       " 667,\n",
       " 1820,\n",
       " 126,\n",
       " 212,\n",
       " 4197,\n",
       " 21,\n",
       " 1709,\n",
       " 249,\n",
       " 311,\n",
       " 13,\n",
       " 260,\n",
       " 489,\n",
       " 9,\n",
       " 65,\n",
       " 4753,\n",
       " 64,\n",
       " 1209,\n",
       " 4397,\n",
       " 249,\n",
       " 954,\n",
       " 36,\n",
       " 152,\n",
       " 1440,\n",
       " 5825,\n",
       " 506,\n",
       " 24,\n",
       " 135,\n",
       " 367,\n",
       " 311,\n",
       " 34,\n",
       " 420,\n",
       " 4,\n",
       " 8407,\n",
       " 200,\n",
       " 1519,\n",
       " 13,\n",
       " 137,\n",
       " 730,\n",
       " 190,\n",
       " 7,\n",
       " 104,\n",
       " 570,\n",
       " 52,\n",
       " 64,\n",
       " 2492,\n",
       " 7725,\n",
       " 4,\n",
       " 642,\n",
       " 5,\n",
       " 405,\n",
       " 7725,\n",
       " 2492,\n",
       " 24,\n",
       " 76,\n",
       " 847,\n",
       " 1435,\n",
       " 4446,\n",
       " 6,\n",
       " 10,\n",
       " 548,\n",
       " 320,\n",
       " 34,\n",
       " 325,\n",
       " 136,\n",
       " 694,\n",
       " 1440,\n",
       " 5825,\n",
       " 8,\n",
       " 10,\n",
       " 5184,\n",
       " 847,\n",
       " 7,\n",
       " 4,\n",
       " 169,\n",
       " 76,\n",
       " 2378,\n",
       " 10,\n",
       " 4933,\n",
       " 3447,\n",
       " 5,\n",
       " 141,\n",
       " 1082,\n",
       " 36,\n",
       " 152,\n",
       " 36,\n",
       " 8,\n",
       " 126,\n",
       " 358,\n",
       " 367,\n",
       " 65,\n",
       " 814,\n",
       " 190,\n",
       " 64,\n",
       " 2575,\n",
       " 10,\n",
       " 969,\n",
       " 3161,\n",
       " 92,\n",
       " 48,\n",
       " 6,\n",
       " 2245,\n",
       " 31,\n",
       " 367,\n",
       " 51,\n",
       " 570,\n",
       " 4753,\n",
       " 292,\n",
       " 27,\n",
       " 405,\n",
       " 212,\n",
       " 62,\n",
       " 3740,\n",
       " 922,\n",
       " 9,\n",
       " 2464,\n",
       " 27,\n",
       " 367,\n",
       " 77,\n",
       " 62,\n",
       " 4397,\n",
       " 7,\n",
       " 316,\n",
       " 5,\n",
       " 874,\n",
       " 36,\n",
       " 152,\n",
       " 4,\n",
       " 936,\n",
       " 1243,\n",
       " 5,\n",
       " 358,\n",
       " 367,\n",
       " 398,\n",
       " 57,\n",
       " 45,\n",
       " 3680,\n",
       " 7367,\n",
       " 6,\n",
       " 2394,\n",
       " 1343,\n",
       " 13,\n",
       " 373,\n",
       " 4504,\n",
       " 36,\n",
       " 8,\n",
       " 1440,\n",
       " 5825,\n",
       " 8,\n",
       " 42,\n",
       " 196,\n",
       " 150,\n",
       " 10,\n",
       " 523,\n",
       " 96,\n",
       " 34,\n",
       " 9725,\n",
       " 43,\n",
       " 16,\n",
       " 1261,\n",
       " 205,\n",
       " 7,\n",
       " 4,\n",
       " 65,\n",
       " 182,\n",
       " 1351,\n",
       " 367,\n",
       " 6,\n",
       " 351,\n",
       " 184,\n",
       " 45,\n",
       " 6081,\n",
       " 2286,\n",
       " 197,\n",
       " 1245,\n",
       " 13,\n",
       " 3187,\n",
       " 2,\n",
       " 274,\n",
       " 419,\n",
       " 714,\n",
       " 1351,\n",
       " 367,\n",
       " 269,\n",
       " 10,\n",
       " 96,\n",
       " 41,\n",
       " 129,\n",
       " 1104,\n",
       " 1673,\n",
       " 1419,\n",
       " 578,\n",
       " 36,\n",
       " 152,\n",
       " 2,\n",
       " 1440,\n",
       " 7615,\n",
       " 367,\n",
       " 1683,\n",
       " 484,\n",
       " 293,\n",
       " 75,\n",
       " 6557,\n",
       " 4,\n",
       " 8042,\n",
       " 152,\n",
       " 24,\n",
       " 5222,\n",
       " 34,\n",
       " 325,\n",
       " 834,\n",
       " 6,\n",
       " 1356,\n",
       " 2,\n",
       " 2406,\n",
       " 7,\n",
       " 4,\n",
       " 65,\n",
       " 76,\n",
       " 1082,\n",
       " 164,\n",
       " 1574,\n",
       " 212,\n",
       " 9,\n",
       " 861,\n",
       " 34,\n",
       " 8340,\n",
       " 13,\n",
       " 286,\n",
       " 1930,\n",
       " 1440,\n",
       " 7615,\n",
       " 8,\n",
       " 787,\n",
       " 36,\n",
       " 1830,\n",
       " 1082,\n",
       " 41,\n",
       " 3751,\n",
       " 616,\n",
       " 6,\n",
       " 382,\n",
       " 2,\n",
       " 2,\n",
       " 1574,\n",
       " 6928,\n",
       " 17,\n",
       " 12]"
      ]
     },
     "execution_count": 21,
     "metadata": {},
     "output_type": "execute_result"
    }
   ],
   "source": [
    "train_data[100]"
   ]
  },
  {
   "cell_type": "code",
   "execution_count": 22,
   "metadata": {},
   "outputs": [],
   "source": [
    "# Decoding newswires back to text\n",
    "\n",
    "word_index = reuters.get_word_index()\n",
    "reverse_word_index = dict([(value, key) for (key, value) in word_index.items()])\n",
    "decoded_newswire = ' '.join([reverse_word_index.get(i -3, '?') for i in train_data[0]])"
   ]
  },
  {
   "cell_type": "code",
   "execution_count": 23,
   "metadata": {},
   "outputs": [
    {
     "data": {
      "text/plain": [
       "3"
      ]
     },
     "execution_count": 23,
     "metadata": {},
     "output_type": "execute_result"
    }
   ],
   "source": [
    "train_labels[10]"
   ]
  },
  {
   "cell_type": "code",
   "execution_count": 24,
   "metadata": {},
   "outputs": [
    {
     "data": {
      "text/plain": [
       "11"
      ]
     },
     "execution_count": 24,
     "metadata": {},
     "output_type": "execute_result"
    }
   ],
   "source": [
    "train_labels[20]"
   ]
  },
  {
   "cell_type": "code",
   "execution_count": 25,
   "metadata": {},
   "outputs": [],
   "source": [
    "#Preparing(Encoding(Vectorize)) The Data"
   ]
  },
  {
   "cell_type": "code",
   "execution_count": 26,
   "metadata": {},
   "outputs": [],
   "source": [
    "import numpy as np\n",
    "\n",
    "def vectorize_sequences(sequences, dimension=10000):\n",
    "    results = np.zeros((len(sequences), dimension))\n",
    "    for i, sequence in enumerate(sequences):\n",
    "        results[i, sequence] = 1\n",
    "    return results\n",
    "x_train = vectorize_sequences(train_data)\n",
    "x_test = vectorize_sequences(test_data)"
   ]
  },
  {
   "cell_type": "code",
   "execution_count": 27,
   "metadata": {},
   "outputs": [],
   "source": [
    "from keras.utils.np_utils import to_categorical\n",
    "\n",
    "one_hot_train_labels = to_categorical(train_labels)\n",
    "one_hot_test_labels = to_categorical(test_labels)"
   ]
  },
  {
   "cell_type": "code",
   "execution_count": 28,
   "metadata": {},
   "outputs": [],
   "source": [
    "from keras import models\n",
    "from keras import layers\n",
    "\n",
    "model = models.Sequential()\n",
    "model.add(layers.Dense(64, activation='relu', input_shape=(10000,)))\n",
    "model.add(layers.Dense(64, activation='relu'))\n",
    "model.add(layers.Dense(46, activation='softmax'))"
   ]
  },
  {
   "cell_type": "code",
   "execution_count": 29,
   "metadata": {},
   "outputs": [],
   "source": [
    "model.compile(optimizer='rmsprop',\n",
    "              loss='categorical_crossentropy',\n",
    "              metrics=['accuracy'])"
   ]
  },
  {
   "cell_type": "code",
   "execution_count": 30,
   "metadata": {},
   "outputs": [],
   "source": [
    "x_val = x_train[:1000]\n",
    "partial_x_train = x_train[1000:]\n",
    "\n",
    "y_val = one_hot_train_labels[:1000]\n",
    "partial_y_train = one_hot_train_labels[1000:]"
   ]
  },
  {
   "cell_type": "code",
   "execution_count": 31,
   "metadata": {},
   "outputs": [
    {
     "name": "stdout",
     "output_type": "stream",
     "text": [
      "Epoch 1/20\n",
      "16/16 [==============================] - 1s 44ms/step - loss: 3.2334 - accuracy: 0.3615 - val_loss: 1.8903 - val_accuracy: 0.6290\n",
      "Epoch 2/20\n",
      "16/16 [==============================] - 1s 32ms/step - loss: 1.6364 - accuracy: 0.6832 - val_loss: 1.3670 - val_accuracy: 0.7100\n",
      "Epoch 3/20\n",
      "16/16 [==============================] - 1s 33ms/step - loss: 1.1842 - accuracy: 0.7534 - val_loss: 1.1701 - val_accuracy: 0.7560\n",
      "Epoch 4/20\n",
      "16/16 [==============================] - 1s 33ms/step - loss: 0.9074 - accuracy: 0.8083 - val_loss: 1.0653 - val_accuracy: 0.7770\n",
      "Epoch 5/20\n",
      "16/16 [==============================] - 1s 33ms/step - loss: 0.7138 - accuracy: 0.8514 - val_loss: 1.0089 - val_accuracy: 0.7920\n",
      "Epoch 6/20\n",
      "16/16 [==============================] - 1s 34ms/step - loss: 0.5911 - accuracy: 0.8752 - val_loss: 0.9365 - val_accuracy: 0.8170\n",
      "Epoch 7/20\n",
      "16/16 [==============================] - 1s 34ms/step - loss: 0.4603 - accuracy: 0.9047 - val_loss: 0.9340 - val_accuracy: 0.8150\n",
      "Epoch 8/20\n",
      "16/16 [==============================] - 1s 34ms/step - loss: 0.3941 - accuracy: 0.9186 - val_loss: 0.9014 - val_accuracy: 0.8190\n",
      "Epoch 9/20\n",
      "16/16 [==============================] - 1s 35ms/step - loss: 0.3337 - accuracy: 0.9323 - val_loss: 0.9136 - val_accuracy: 0.8170\n",
      "Epoch 10/20\n",
      "16/16 [==============================] - 1s 41ms/step - loss: 0.2537 - accuracy: 0.9468 - val_loss: 0.9295 - val_accuracy: 0.8190\n",
      "Epoch 11/20\n",
      "16/16 [==============================] - 1s 38ms/step - loss: 0.2211 - accuracy: 0.9504 - val_loss: 0.9297 - val_accuracy: 0.8170\n",
      "Epoch 12/20\n",
      "16/16 [==============================] - 1s 38ms/step - loss: 0.1981 - accuracy: 0.9553 - val_loss: 0.9304 - val_accuracy: 0.8150\n",
      "Epoch 13/20\n",
      "16/16 [==============================] - 1s 39ms/step - loss: 0.1777 - accuracy: 0.9526 - val_loss: 0.9596 - val_accuracy: 0.8150\n",
      "Epoch 14/20\n",
      "16/16 [==============================] - 1s 37ms/step - loss: 0.1538 - accuracy: 0.9576 - val_loss: 0.9799 - val_accuracy: 0.8030\n",
      "Epoch 15/20\n",
      "16/16 [==============================] - 1s 35ms/step - loss: 0.1350 - accuracy: 0.9578 - val_loss: 1.0146 - val_accuracy: 0.8110\n",
      "Epoch 16/20\n",
      "16/16 [==============================] - 1s 36ms/step - loss: 0.1241 - accuracy: 0.9616 - val_loss: 0.9956 - val_accuracy: 0.8130\n",
      "Epoch 17/20\n",
      "16/16 [==============================] - 1s 35ms/step - loss: 0.1208 - accuracy: 0.9602 - val_loss: 1.0304 - val_accuracy: 0.8020\n",
      "Epoch 18/20\n",
      "16/16 [==============================] - 1s 37ms/step - loss: 0.1208 - accuracy: 0.9588 - val_loss: 1.0628 - val_accuracy: 0.8150\n",
      "Epoch 19/20\n",
      "16/16 [==============================] - 1s 35ms/step - loss: 0.1104 - accuracy: 0.9625 - val_loss: 1.0944 - val_accuracy: 0.8160\n",
      "Epoch 20/20\n",
      "16/16 [==============================] - 1s 34ms/step - loss: 0.1034 - accuracy: 0.9652 - val_loss: 1.1118 - val_accuracy: 0.8100\n"
     ]
    }
   ],
   "source": [
    "history = model.fit(partial_x_train,\n",
    "                    partial_y_train,\n",
    "                    epochs=20,\n",
    "                    batch_size=512,\n",
    "                    validation_data=(x_val, y_val))"
   ]
  },
  {
   "cell_type": "code",
   "execution_count": 32,
   "metadata": {},
   "outputs": [
    {
     "data": {
      "text/plain": [
       "<matplotlib.legend.Legend at 0x7fd73cf62af0>"
      ]
     },
     "execution_count": 32,
     "metadata": {},
     "output_type": "execute_result"
    },
    {
     "data": {
      "image/png": "[encoded data removed]",
      "text/plain": [
       "<Figure size 432x288 with 1 Axes>"
      ]
     },
     "metadata": {
      "needs_background": "light"
     },
     "output_type": "display_data"
    }
   ],
   "source": [
    "import matplotlib.pyplot as plt\n",
    "\n",
    "loss=history.history['loss']\n",
    "val_loss = history.history['val_loss']\n",
    "\n",
    "epochs = range(1, len(loss) + 1)\n",
    "\n",
    "plt.plot(epochs, loss, 'bo', label='Training Loss')\n",
    "plt.plot(epochs, val_loss, 'b', label='Validation Loss')\n",
    "plt.title('Training and Validation Loss')\n",
    "plt.xlabel('Epochs')\n",
    "plt.ylabel('Loss')\n",
    "plt.legend()"
   ]
  },
  {
   "cell_type": "code",
   "execution_count": 33,
   "metadata": {},
   "outputs": [
    {
     "data": {
      "text/plain": [
       "<matplotlib.legend.Legend at 0x7fd7af525f70>"
      ]
     },
     "execution_count": 33,
     "metadata": {},
     "output_type": "execute_result"
    },
    {
     "data": {
      "image/png": "[encoded data removed]",
      "text/plain": [
       "<Figure size 432x288 with 1 Axes>"
      ]
     },
     "metadata": {
      "needs_background": "light"
     },
     "output_type": "display_data"
    }
   ],
   "source": [
    "acc=history.history['accuracy']\n",
    "val_acc = history.history['val_accuracy']\n",
    "\n",
    "epochs = range(1, len(loss) + 1)\n",
    "\n",
    "plt.plot(epochs, acc, 'bo', label='Training acc')\n",
    "plt.plot(epochs, val_acc, 'b', label='Validation acc')\n",
    "plt.title('Training and Validation Accuracy')\n",
    "plt.xlabel('Epochs')\n",
    "plt.ylabel('Loss')\n",
    "plt.legend()"
   ]
  },
  {
   "cell_type": "code",
   "execution_count": 34,
   "metadata": {},
   "outputs": [
    {
     "name": "stdout",
     "output_type": "stream",
     "text": [
      "Epoch 1/9\n",
      "16/16 [==============================] - 1s 42ms/step - loss: 3.3107 - accuracy: 0.3525 - val_loss: 1.9982 - val_accuracy: 0.6720\n",
      "Epoch 2/9\n",
      "16/16 [==============================] - 1s 33ms/step - loss: 1.6691 - accuracy: 0.6997 - val_loss: 1.3817 - val_accuracy: 0.7080\n",
      "Epoch 3/9\n",
      "16/16 [==============================] - 1s 33ms/step - loss: 1.1311 - accuracy: 0.7624 - val_loss: 1.1510 - val_accuracy: 0.7620\n",
      "Epoch 4/9\n",
      "16/16 [==============================] - 1s 34ms/step - loss: 0.8591 - accuracy: 0.8124 - val_loss: 1.0453 - val_accuracy: 0.7790\n",
      "Epoch 5/9\n",
      "16/16 [==============================] - 1s 34ms/step - loss: 0.6841 - accuracy: 0.8576 - val_loss: 0.9873 - val_accuracy: 0.7970\n",
      "Epoch 6/9\n",
      "16/16 [==============================] - 1s 35ms/step - loss: 0.5345 - accuracy: 0.8918 - val_loss: 0.9703 - val_accuracy: 0.7980\n",
      "Epoch 7/9\n",
      "16/16 [==============================] - 1s 39ms/step - loss: 0.4184 - accuracy: 0.9167 - val_loss: 0.9054 - val_accuracy: 0.8190\n",
      "Epoch 8/9\n",
      "16/16 [==============================] - 1s 39ms/step - loss: 0.3361 - accuracy: 0.9323 - val_loss: 0.9169 - val_accuracy: 0.8210\n",
      "Epoch 9/9\n",
      "16/16 [==============================] - 1s 33ms/step - loss: 0.2807 - accuracy: 0.9423 - val_loss: 0.9138 - val_accuracy: 0.8120\n",
      "71/71 [==============================] - 0s 3ms/step - loss: 0.9992 - accuracy: 0.7827\n"
     ]
    }
   ],
   "source": [
    "model = models.Sequential()\n",
    "model.add(layers.Dense(64, activation='relu', input_shape=(10000,)))\n",
    "model.add(layers.Dense(64, activation='relu'))\n",
    "model.add(layers.Dense(46, activation='softmax'))\n",
    "\n",
    "model.compile(optimizer='rmsprop',\n",
    "              loss='categorical_crossentropy',\n",
    "              metrics=['accuracy'])\n",
    "\n",
    "model.fit(partial_x_train,\n",
    "                    partial_y_train,\n",
    "                    epochs=9,\n",
    "                    batch_size=512,\n",
    "                    validation_data=(x_val, y_val))\n",
    "results = model.evaluate(x_test, one_hot_test_labels)"
   ]
  },
  {
   "cell_type": "code",
   "execution_count": 35,
   "metadata": {},
   "outputs": [
    {
     "data": {
      "text/plain": [
       "[0.9991567134857178, 0.7827248573303223]"
      ]
     },
     "execution_count": 35,
     "metadata": {},
     "output_type": "execute_result"
    }
   ],
   "source": [
    "results"
   ]
  },
  {
   "cell_type": "code",
   "execution_count": 36,
   "metadata": {},
   "outputs": [
    {
     "data": {
      "text/plain": [
       "0.18076580587711488"
      ]
     },
     "execution_count": 36,
     "metadata": {},
     "output_type": "execute_result"
    }
   ],
   "source": [
    "import copy\n",
    "test_labels_copy = copy.copy(test_labels)\n",
    "np.random.shuffle(test_labels_copy)\n",
    "hits_array = np.array(test_labels) == np.array(test_labels_copy)\n",
    "float(np.sum(hits_array)) / len(test_labels)"
   ]
  },
  {
   "cell_type": "code",
   "execution_count": 37,
   "metadata": {},
   "outputs": [
    {
     "data": {
      "text/plain": [
       "(46,)"
      ]
     },
     "execution_count": 37,
     "metadata": {},
     "output_type": "execute_result"
    }
   ],
   "source": [
    "predictions = model.predict(x_test)\n",
    "predictions[0].shape"
   ]
  },
  {
   "cell_type": "code",
   "execution_count": 38,
   "metadata": {},
   "outputs": [
    {
     "data": {
      "text/plain": [
       "0.99999994"
      ]
     },
     "execution_count": 38,
     "metadata": {},
     "output_type": "execute_result"
    }
   ],
   "source": [
    "np.sum(predictions[0])"
   ]
  },
  {
   "cell_type": "code",
   "execution_count": 39,
   "metadata": {},
   "outputs": [
    {
     "data": {
      "text/plain": [
       "3"
      ]
     },
     "execution_count": 39,
     "metadata": {},
     "output_type": "execute_result"
    }
   ],
   "source": [
    "np.argmax(predictions[0])"
   ]
  },
  {
   "cell_type": "code",
   "execution_count": 40,
   "metadata": {},
   "outputs": [
    {
     "name": "stdout",
     "output_type": "stream",
     "text": [
      "Epoch 1/20\n",
      "63/63 [==============================] - 1s 16ms/step - loss: 3.3899 - accuracy: 0.3776 - val_loss: 2.5419 - val_accuracy: 0.5190\n",
      "Epoch 2/20\n",
      "63/63 [==============================] - 1s 14ms/step - loss: 2.3515 - accuracy: 0.5101 - val_loss: 2.2255 - val_accuracy: 0.4670\n",
      "Epoch 3/20\n",
      "63/63 [==============================] - 1s 14ms/step - loss: 1.9974 - accuracy: 0.4922 - val_loss: 2.0637 - val_accuracy: 0.4640\n",
      "Epoch 4/20\n",
      "63/63 [==============================] - 1s 14ms/step - loss: 1.7692 - accuracy: 0.5017 - val_loss: 1.7053 - val_accuracy: 0.6120\n",
      "Epoch 5/20\n",
      "63/63 [==============================] - 1s 14ms/step - loss: 1.3008 - accuracy: 0.7005 - val_loss: 1.4246 - val_accuracy: 0.6740\n",
      "Epoch 6/20\n",
      "63/63 [==============================] - 1s 15ms/step - loss: 1.0304 - accuracy: 0.7489 - val_loss: 1.3562 - val_accuracy: 0.7000\n",
      "Epoch 7/20\n",
      "63/63 [==============================] - 1s 14ms/step - loss: 0.9373 - accuracy: 0.7592 - val_loss: 1.3707 - val_accuracy: 0.7020\n",
      "Epoch 8/20\n",
      "63/63 [==============================] - 1s 15ms/step - loss: 0.8564 - accuracy: 0.7659 - val_loss: 1.3964 - val_accuracy: 0.7080\n",
      "Epoch 9/20\n",
      "63/63 [==============================] - 1s 14ms/step - loss: 0.7563 - accuracy: 0.7836 - val_loss: 1.3899 - val_accuracy: 0.7090\n",
      "Epoch 10/20\n",
      "63/63 [==============================] - 1s 14ms/step - loss: 0.7355 - accuracy: 0.7917 - val_loss: 1.4730 - val_accuracy: 0.7080\n",
      "Epoch 11/20\n",
      "63/63 [==============================] - 1s 14ms/step - loss: 0.6806 - accuracy: 0.8110 - val_loss: 1.4660 - val_accuracy: 0.7120\n",
      "Epoch 12/20\n",
      "63/63 [==============================] - 1s 15ms/step - loss: 0.6225 - accuracy: 0.8282 - val_loss: 1.5381 - val_accuracy: 0.7230\n",
      "Epoch 13/20\n",
      "63/63 [==============================] - 1s 17ms/step - loss: 0.5997 - accuracy: 0.8359 - val_loss: 1.5801 - val_accuracy: 0.7240\n",
      "Epoch 14/20\n",
      "63/63 [==============================] - 1s 16ms/step - loss: 0.5638 - accuracy: 0.8443 - val_loss: 1.6433 - val_accuracy: 0.7190\n",
      "Epoch 15/20\n",
      "63/63 [==============================] - 1s 17ms/step - loss: 0.5181 - accuracy: 0.8518 - val_loss: 1.7313 - val_accuracy: 0.7110\n",
      "Epoch 16/20\n",
      "63/63 [==============================] - 1s 15ms/step - loss: 0.4799 - accuracy: 0.8577 - val_loss: 1.7531 - val_accuracy: 0.7100\n",
      "Epoch 17/20\n",
      "63/63 [==============================] - 1s 15ms/step - loss: 0.4730 - accuracy: 0.8599 - val_loss: 1.8612 - val_accuracy: 0.7060\n",
      "Epoch 18/20\n",
      "63/63 [==============================] - 1s 16ms/step - loss: 0.4290 - accuracy: 0.8732 - val_loss: 1.8597 - val_accuracy: 0.7130\n",
      "Epoch 19/20\n",
      "63/63 [==============================] - 1s 15ms/step - loss: 0.4234 - accuracy: 0.8711 - val_loss: 1.9771 - val_accuracy: 0.7070\n",
      "Epoch 20/20\n",
      "63/63 [==============================] - 1s 15ms/step - loss: 0.4283 - accuracy: 0.8620 - val_loss: 1.9994 - val_accuracy: 0.7120\n"
     ]
    },
    {
     "data": {
      "text/plain": [
       "<tensorflow.python.keras.callbacks.History at 0x7fd7af6833d0>"
      ]
     },
     "execution_count": 40,
     "metadata": {},
     "output_type": "execute_result"
    }
   ],
   "source": [
    "# A model with an information bottleneck\n",
    "\n",
    "model = models.Sequential()\n",
    "\n",
    "model.add(layers.Dense(64, activation='relu', input_shape=(10000,)))\n",
    "model.add(layers.Dense(4, activation='relu'))\n",
    "model.add(layers.Dense(46, activation='softmax'))\n",
    "\n",
    "model.compile(optimizer='rmsprop',\n",
    "              loss='categorical_crossentropy',\n",
    "              metrics=['accuracy'])\n",
    "model.fit(partial_x_train,\n",
    "          partial_y_train,\n",
    "          epochs=20,\n",
    "          batch_size=128,\n",
    "          validation_data=(x_val, y_val))"
   ]
  },
  {
   "cell_type": "code",
   "execution_count": 41,
   "metadata": {},
   "outputs": [
    {
     "name": "stdout",
     "output_type": "stream",
     "text": [
      "Epoch 1/20\n",
      "63/63 [==============================] - 2s 16ms/step - loss: 2.5928 - accuracy: 0.4893 - val_loss: 1.3404 - val_accuracy: 0.7240\n",
      "Epoch 2/20\n",
      "63/63 [==============================] - 1s 14ms/step - loss: 1.0858 - accuracy: 0.7672 - val_loss: 1.1053 - val_accuracy: 0.7630\n",
      "Epoch 3/20\n",
      "63/63 [==============================] - 1s 14ms/step - loss: 0.7551 - accuracy: 0.8410 - val_loss: 0.9716 - val_accuracy: 0.7980\n",
      "Epoch 4/20\n",
      "63/63 [==============================] - 1s 14ms/step - loss: 0.5414 - accuracy: 0.8892 - val_loss: 0.9170 - val_accuracy: 0.8110\n",
      "Epoch 5/20\n",
      "63/63 [==============================] - 1s 15ms/step - loss: 0.3941 - accuracy: 0.9180 - val_loss: 0.8865 - val_accuracy: 0.8130\n",
      "Epoch 6/20\n",
      "63/63 [==============================] - 1s 16ms/step - loss: 0.3015 - accuracy: 0.9344 - val_loss: 0.9400 - val_accuracy: 0.8070\n",
      "Epoch 7/20\n",
      "63/63 [==============================] - 1s 16ms/step - loss: 0.2301 - accuracy: 0.9495 - val_loss: 0.9541 - val_accuracy: 0.8180\n",
      "Epoch 8/20\n",
      "63/63 [==============================] - 1s 15ms/step - loss: 0.1744 - accuracy: 0.9578 - val_loss: 0.9542 - val_accuracy: 0.8060\n",
      "Epoch 9/20\n",
      "63/63 [==============================] - 1s 15ms/step - loss: 0.1539 - accuracy: 0.9613 - val_loss: 1.0221 - val_accuracy: 0.8100\n",
      "Epoch 10/20\n",
      "63/63 [==============================] - 1s 16ms/step - loss: 0.1423 - accuracy: 0.9543 - val_loss: 1.0429 - val_accuracy: 0.8090\n",
      "Epoch 11/20\n",
      "63/63 [==============================] - 1s 15ms/step - loss: 0.1355 - accuracy: 0.9608 - val_loss: 1.1044 - val_accuracy: 0.8080\n",
      "Epoch 12/20\n",
      "63/63 [==============================] - 1s 15ms/step - loss: 0.1200 - accuracy: 0.9610 - val_loss: 1.0874 - val_accuracy: 0.8030\n",
      "Epoch 13/20\n",
      "63/63 [==============================] - 1s 16ms/step - loss: 0.1172 - accuracy: 0.9590 - val_loss: 1.1524 - val_accuracy: 0.8010\n",
      "Epoch 14/20\n",
      "63/63 [==============================] - 1s 15ms/step - loss: 0.1127 - accuracy: 0.9598 - val_loss: 1.1161 - val_accuracy: 0.8050\n",
      "Epoch 15/20\n",
      "63/63 [==============================] - 1s 15ms/step - loss: 0.1021 - accuracy: 0.9636 - val_loss: 1.1299 - val_accuracy: 0.8090\n",
      "Epoch 16/20\n",
      "63/63 [==============================] - 1s 15ms/step - loss: 0.1072 - accuracy: 0.9604 - val_loss: 1.2259 - val_accuracy: 0.7970\n",
      "Epoch 17/20\n",
      "63/63 [==============================] - 1s 16ms/step - loss: 0.1028 - accuracy: 0.9594 - val_loss: 1.2864 - val_accuracy: 0.8060\n",
      "Epoch 18/20\n",
      "63/63 [==============================] - 1s 16ms/step - loss: 0.0983 - accuracy: 0.9633 - val_loss: 1.2633 - val_accuracy: 0.8030\n",
      "Epoch 19/20\n",
      "63/63 [==============================] - 1s 15ms/step - loss: 0.0945 - accuracy: 0.9601 - val_loss: 1.2640 - val_accuracy: 0.7890\n",
      "Epoch 20/20\n",
      "63/63 [==============================] - 1s 15ms/step - loss: 0.0961 - accuracy: 0.9601 - val_loss: 1.2354 - val_accuracy: 0.7980\n"
     ]
    },
    {
     "data": {
      "text/plain": [
       "<tensorflow.python.keras.callbacks.History at 0x7fd7aed94370>"
      ]
     },
     "execution_count": 41,
     "metadata": {},
     "output_type": "execute_result"
    }
   ],
   "source": [
    "# A model with an information bottleneck\n",
    "\n",
    "model = models.Sequential()\n",
    "\n",
    "model.add(layers.Dense(64, activation='relu', input_shape=(10000,)))\n",
    "model.add(layers.Dense(32, activation='relu'))\n",
    "model.add(layers.Dense(46, activation='softmax'))\n",
    "\n",
    "model.compile(optimizer='rmsprop',\n",
    "              loss='categorical_crossentropy',\n",
    "              metrics=['accuracy'])\n",
    "model.fit(partial_x_train,\n",
    "          partial_y_train,\n",
    "          epochs=20,\n",
    "          batch_size=128,\n",
    "          validation_data=(x_val, y_val))"
   ]
  },
  {
   "cell_type": "code",
   "execution_count": 42,
   "metadata": {},
   "outputs": [
    {
     "name": "stdout",
     "output_type": "stream",
     "text": [
      "Epoch 1/20\n",
      "63/63 [==============================] - 1s 16ms/step - loss: 2.3192 - accuracy: 0.5466 - val_loss: 1.1749 - val_accuracy: 0.7410\n",
      "Epoch 2/20\n",
      "63/63 [==============================] - 1s 15ms/step - loss: 0.9677 - accuracy: 0.7878 - val_loss: 0.9675 - val_accuracy: 0.7950\n",
      "Epoch 3/20\n",
      "63/63 [==============================] - 1s 14ms/step - loss: 0.6395 - accuracy: 0.8652 - val_loss: 0.9034 - val_accuracy: 0.8040\n",
      "Epoch 4/20\n",
      "63/63 [==============================] - 1s 15ms/step - loss: 0.3959 - accuracy: 0.9157 - val_loss: 0.8572 - val_accuracy: 0.8190\n",
      "Epoch 5/20\n",
      "63/63 [==============================] - 1s 15ms/step - loss: 0.2766 - accuracy: 0.9377 - val_loss: 0.9061 - val_accuracy: 0.8170\n",
      "Epoch 6/20\n",
      "63/63 [==============================] - 1s 15ms/step - loss: 0.2180 - accuracy: 0.9495 - val_loss: 0.9591 - val_accuracy: 0.8030\n",
      "Epoch 7/20\n",
      "63/63 [==============================] - 1s 15ms/step - loss: 0.1744 - accuracy: 0.9557 - val_loss: 1.0050 - val_accuracy: 0.8030\n",
      "Epoch 8/20\n",
      "63/63 [==============================] - 1s 16ms/step - loss: 0.1534 - accuracy: 0.9569 - val_loss: 1.0114 - val_accuracy: 0.8160\n",
      "Epoch 9/20\n",
      "63/63 [==============================] - 1s 16ms/step - loss: 0.1389 - accuracy: 0.9612 - val_loss: 1.0581 - val_accuracy: 0.7980\n",
      "Epoch 10/20\n",
      "63/63 [==============================] - 1s 16ms/step - loss: 0.1314 - accuracy: 0.9583 - val_loss: 1.0305 - val_accuracy: 0.8130\n",
      "Epoch 11/20\n",
      "63/63 [==============================] - 1s 15ms/step - loss: 0.1125 - accuracy: 0.9637 - val_loss: 1.0792 - val_accuracy: 0.8070\n",
      "Epoch 12/20\n",
      "63/63 [==============================] - 1s 17ms/step - loss: 0.1191 - accuracy: 0.9582 - val_loss: 1.1332 - val_accuracy: 0.7990\n",
      "Epoch 13/20\n",
      "63/63 [==============================] - 1s 17ms/step - loss: 0.1017 - accuracy: 0.9664 - val_loss: 1.1117 - val_accuracy: 0.8100\n",
      "Epoch 14/20\n",
      "63/63 [==============================] - 1s 15ms/step - loss: 0.1012 - accuracy: 0.9624 - val_loss: 1.1467 - val_accuracy: 0.7950\n",
      "Epoch 15/20\n",
      "63/63 [==============================] - 1s 17ms/step - loss: 0.1080 - accuracy: 0.9596 - val_loss: 1.1768 - val_accuracy: 0.7990\n",
      "Epoch 16/20\n",
      "63/63 [==============================] - 1s 14ms/step - loss: 0.0993 - accuracy: 0.9603 - val_loss: 1.1966 - val_accuracy: 0.8030\n",
      "Epoch 17/20\n",
      "63/63 [==============================] - 1s 15ms/step - loss: 0.0918 - accuracy: 0.9623 - val_loss: 1.2484 - val_accuracy: 0.7870\n",
      "Epoch 18/20\n",
      "63/63 [==============================] - 1s 14ms/step - loss: 0.0940 - accuracy: 0.9571 - val_loss: 1.2500 - val_accuracy: 0.7920\n",
      "Epoch 19/20\n",
      "63/63 [==============================] - 1s 17ms/step - loss: 0.0855 - accuracy: 0.9650 - val_loss: 1.2816 - val_accuracy: 0.8000\n",
      "Epoch 20/20\n",
      "63/63 [==============================] - 1s 15ms/step - loss: 0.0876 - accuracy: 0.9610 - val_loss: 1.2310 - val_accuracy: 0.8000\n"
     ]
    },
    {
     "data": {
      "text/plain": [
       "<tensorflow.python.keras.callbacks.History at 0x7fd7afd5a910>"
      ]
     },
     "execution_count": 42,
     "metadata": {},
     "output_type": "execute_result"
    }
   ],
   "source": [
    "# A model with an information bottleneck\n",
    "\n",
    "model = models.Sequential()\n",
    "\n",
    "model.add(layers.Dense(64, activation='relu', input_shape=(10000,)))\n",
    "model.add(layers.Dense(96, activation='relu'))\n",
    "model.add(layers.Dense(46, activation='softmax'))\n",
    "\n",
    "model.compile(optimizer='rmsprop',\n",
    "              loss='categorical_crossentropy',\n",
    "              metrics=['accuracy'])\n",
    "model.fit(partial_x_train,\n",
    "          partial_y_train,\n",
    "          epochs=20,\n",
    "          batch_size=128,\n",
    "          validation_data=(x_val, y_val))"
   ]
  },
  {
   "cell_type": "code",
   "execution_count": 43,
   "metadata": {},
   "outputs": [
    {
     "name": "stdout",
     "output_type": "stream",
     "text": [
      "Epoch 1/20\n",
      "63/63 [==============================] - 1s 16ms/step - loss: 2.2988 - accuracy: 0.5241 - val_loss: 1.1900 - val_accuracy: 0.7150\n",
      "Epoch 2/20\n",
      "63/63 [==============================] - 1s 14ms/step - loss: 0.9392 - accuracy: 0.7886 - val_loss: 0.9596 - val_accuracy: 0.8070\n",
      "Epoch 3/20\n",
      "63/63 [==============================] - 1s 14ms/step - loss: 0.6291 - accuracy: 0.8614 - val_loss: 0.8923 - val_accuracy: 0.8110\n",
      "Epoch 4/20\n",
      "63/63 [==============================] - 1s 14ms/step - loss: 0.3927 - accuracy: 0.9136 - val_loss: 0.8659 - val_accuracy: 0.8300\n",
      "Epoch 5/20\n",
      "63/63 [==============================] - 1s 15ms/step - loss: 0.2757 - accuracy: 0.9384 - val_loss: 0.8959 - val_accuracy: 0.8170\n",
      "Epoch 6/20\n",
      "63/63 [==============================] - 1s 14ms/step - loss: 0.2085 - accuracy: 0.9506 - val_loss: 0.9824 - val_accuracy: 0.8140\n",
      "Epoch 7/20\n",
      "63/63 [==============================] - 1s 16ms/step - loss: 0.1754 - accuracy: 0.9546 - val_loss: 1.0048 - val_accuracy: 0.8080\n",
      "Epoch 8/20\n",
      "63/63 [==============================] - 1s 15ms/step - loss: 0.1491 - accuracy: 0.9539 - val_loss: 0.9643 - val_accuracy: 0.8220\n",
      "Epoch 9/20\n",
      "63/63 [==============================] - 1s 15ms/step - loss: 0.1263 - accuracy: 0.9619 - val_loss: 1.0251 - val_accuracy: 0.8200\n",
      "Epoch 10/20\n",
      "63/63 [==============================] - 1s 15ms/step - loss: 0.1273 - accuracy: 0.9576 - val_loss: 1.0196 - val_accuracy: 0.8180\n",
      "Epoch 11/20\n",
      "63/63 [==============================] - 1s 16ms/step - loss: 0.1055 - accuracy: 0.9646 - val_loss: 1.0343 - val_accuracy: 0.8120\n",
      "Epoch 12/20\n",
      "63/63 [==============================] - 1s 15ms/step - loss: 0.1179 - accuracy: 0.9559 - val_loss: 1.0633 - val_accuracy: 0.8020\n",
      "Epoch 13/20\n",
      "63/63 [==============================] - 1s 15ms/step - loss: 0.1030 - accuracy: 0.9605 - val_loss: 1.1615 - val_accuracy: 0.8030\n",
      "Epoch 14/20\n",
      "63/63 [==============================] - 1s 16ms/step - loss: 0.0934 - accuracy: 0.9617 - val_loss: 1.1119 - val_accuracy: 0.8090\n",
      "Epoch 15/20\n",
      "63/63 [==============================] - 1s 15ms/step - loss: 0.0957 - accuracy: 0.9594 - val_loss: 1.1143 - val_accuracy: 0.8000\n",
      "Epoch 16/20\n",
      "63/63 [==============================] - 1s 15ms/step - loss: 0.0899 - accuracy: 0.9630 - val_loss: 1.2361 - val_accuracy: 0.7980\n",
      "Epoch 17/20\n",
      "63/63 [==============================] - 1s 15ms/step - loss: 0.0890 - accuracy: 0.9608 - val_loss: 1.2422 - val_accuracy: 0.7980\n",
      "Epoch 18/20\n",
      "63/63 [==============================] - 1s 17ms/step - loss: 0.0871 - accuracy: 0.9603 - val_loss: 1.3162 - val_accuracy: 0.8040\n",
      "Epoch 19/20\n",
      "63/63 [==============================] - 1s 18ms/step - loss: 0.0868 - accuracy: 0.9604 - val_loss: 1.3579 - val_accuracy: 0.7970\n",
      "Epoch 20/20\n",
      "63/63 [==============================] - 1s 15ms/step - loss: 0.0781 - accuracy: 0.9613 - val_loss: 1.3662 - val_accuracy: 0.8070\n"
     ]
    },
    {
     "data": {
      "text/plain": [
       "<tensorflow.python.keras.callbacks.History at 0x7fd7afcf6640>"
      ]
     },
     "execution_count": 43,
     "metadata": {},
     "output_type": "execute_result"
    }
   ],
   "source": [
    "# A model with an information bottleneck\n",
    "\n",
    "model = models.Sequential()\n",
    "\n",
    "model.add(layers.Dense(64, activation='relu', input_shape=(10000,)))\n",
    "model.add(layers.Dense(128, activation='relu'))\n",
    "model.add(layers.Dense(46, activation='softmax'))\n",
    "\n",
    "model.compile(optimizer='rmsprop',\n",
    "              loss='categorical_crossentropy',\n",
    "              metrics=['accuracy'])\n",
    "model.fit(partial_x_train,\n",
    "          partial_y_train,\n",
    "          epochs=20,\n",
    "          batch_size=128,\n",
    "          validation_data=(x_val, y_val))"
   ]
  },
  {
   "cell_type": "code",
   "execution_count": null,
   "metadata": {},
   "outputs": [],
   "source": []
  }
 ],
 "metadata": {
  "kernelspec": {
   "display_name": "Python 3",
   "language": "python",
   "name": "python3"
  },
  "language_info": {
   "codemirror_mode": {
    "name": "ipython",
    "version": 3
   },
   "file_extension": ".py",
   "mimetype": "text/x-python",
   "name": "python",
   "nbconvert_exporter": "python",
   "pygments_lexer": "ipython3",
   "version": "3.8.5"
  }
 },
 "nbformat": 4,
 "nbformat_minor": 4
}
